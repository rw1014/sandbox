{
  "cells": [
    {
      "cell_type": "markdown",
      "metadata": {
        "id": "view-in-github",
        "colab_type": "text"
      },
      "source": [
        "<a href=\"https://colab.research.google.com/github/rw1014/sandbox/blob/main/spam_message_detection.ipynb\" target=\"_parent\"><img src=\"https://colab.research.google.com/assets/colab-badge.svg\" alt=\"Open In Colab\"/></a>"
      ]
    },
    {
      "cell_type": "code",
      "execution_count": null,
      "id": "cda64aa8-a5ce-4a1f-ba24-80500c4aacb2",
      "metadata": {
        "id": "cda64aa8-a5ce-4a1f-ba24-80500c4aacb2"
      },
      "outputs": [],
      "source": [
        "import nltk"
      ]
    },
    {
      "cell_type": "code",
      "execution_count": null,
      "id": "69e4c3d9-163b-458e-8229-f1178cc58f1a",
      "metadata": {
        "id": "69e4c3d9-163b-458e-8229-f1178cc58f1a"
      },
      "outputs": [],
      "source": [
        "#nltk.download_shell()"
      ]
    },
    {
      "cell_type": "code",
      "execution_count": null,
      "id": "1f2efa2f-1efa-4c5f-babb-e70e67a36c75",
      "metadata": {
        "id": "1f2efa2f-1efa-4c5f-babb-e70e67a36c75"
      },
      "outputs": [],
      "source": [
        "messages = [line.rstrip() for line in open('SMSSpamCollection')]"
      ]
    },
    {
      "cell_type": "code",
      "execution_count": null,
      "id": "bf3381c8-b786-4b38-b3fe-955e14a340c1",
      "metadata": {
        "id": "bf3381c8-b786-4b38-b3fe-955e14a340c1",
        "outputId": "b4c1da22-bfe8-4d5c-aef6-2e3fc90221b5"
      },
      "outputs": [
        {
          "name": "stdout",
          "output_type": "stream",
          "text": [
            "5574\n"
          ]
        }
      ],
      "source": [
        "print(len(messages))"
      ]
    },
    {
      "cell_type": "code",
      "execution_count": null,
      "id": "8ad54361-17bb-49d7-9528-105eb6d84dd5",
      "metadata": {
        "id": "8ad54361-17bb-49d7-9528-105eb6d84dd5",
        "outputId": "a35c7965-b375-45f0-a2f7-3aaced988683"
      },
      "outputs": [
        {
          "name": "stdout",
          "output_type": "stream",
          "text": [
            "0 ham\tGo until jurong point, crazy.. Available only in bugis n great world la e buffet... Cine there got amore wat...\n",
            "\n",
            "\n",
            "1 ham\tOk lar... Joking wif u oni...\n",
            "\n",
            "\n",
            "2 spam\tFree entry in 2 a wkly comp to win FA Cup final tkts 21st May 2005. Text FA to 87121 to receive entry question(std txt rate)T&C's apply 08452810075over18's\n",
            "\n",
            "\n",
            "3 ham\tU dun say so early hor... U c already then say...\n",
            "\n",
            "\n",
            "4 ham\tNah I don't think he goes to usf, he lives around here though\n",
            "\n",
            "\n",
            "5 spam\tFreeMsg Hey there darling it's been 3 week's now and no word back! I'd like some fun you up for it still? Tb ok! XxX std chgs to send, Â£1.50 to rcv\n",
            "\n",
            "\n",
            "6 ham\tEven my brother is not like to speak with me. They treat me like aids patent.\n",
            "\n",
            "\n",
            "7 ham\tAs per your request 'Melle Melle (Oru Minnaminunginte Nurungu Vettam)' has been set as your callertune for all Callers. Press *9 to copy your friends Callertune\n",
            "\n",
            "\n",
            "8 spam\tWINNER!! As a valued network customer you have been selected to receivea Â£900 prize reward! To claim call 09061701461. Claim code KL341. Valid 12 hours only.\n",
            "\n",
            "\n",
            "9 spam\tHad your mobile 11 months or more? U R entitled to Update to the latest colour mobiles with camera for Free! Call The Mobile Update Co FREE on 08002986030\n",
            "\n",
            "\n"
          ]
        }
      ],
      "source": [
        "for mess_no, message in enumerate(messages[:10]):\n",
        "    print(mess_no, message)\n",
        "    print('\\n')"
      ]
    },
    {
      "cell_type": "code",
      "execution_count": null,
      "id": "11c12639-839e-4510-aed9-3976e7880ba8",
      "metadata": {
        "id": "11c12639-839e-4510-aed9-3976e7880ba8"
      },
      "outputs": [],
      "source": [
        "import pandas as pd"
      ]
    },
    {
      "cell_type": "code",
      "execution_count": null,
      "id": "18356045-1920-4cf5-b234-7f1284481e6f",
      "metadata": {
        "id": "18356045-1920-4cf5-b234-7f1284481e6f"
      },
      "outputs": [],
      "source": [
        "messages = pd.read_csv('SMSSpamCollection', sep='\\t', names=['label', 'message'])"
      ]
    },
    {
      "cell_type": "code",
      "execution_count": null,
      "id": "a22e3528-0ed1-40d7-a35b-fdbbe57eb9cc",
      "metadata": {
        "id": "a22e3528-0ed1-40d7-a35b-fdbbe57eb9cc",
        "outputId": "0495a5f9-de44-4c1a-8dd4-4123357c1a52"
      },
      "outputs": [
        {
          "data": {
            "text/html": [
              "<div>\n",
              "<style scoped>\n",
              "    .dataframe tbody tr th:only-of-type {\n",
              "        vertical-align: middle;\n",
              "    }\n",
              "\n",
              "    .dataframe tbody tr th {\n",
              "        vertical-align: top;\n",
              "    }\n",
              "\n",
              "    .dataframe thead th {\n",
              "        text-align: right;\n",
              "    }\n",
              "</style>\n",
              "<table border=\"1\" class=\"dataframe\">\n",
              "  <thead>\n",
              "    <tr style=\"text-align: right;\">\n",
              "      <th></th>\n",
              "      <th>label</th>\n",
              "      <th>message</th>\n",
              "    </tr>\n",
              "  </thead>\n",
              "  <tbody>\n",
              "    <tr>\n",
              "      <th>0</th>\n",
              "      <td>ham</td>\n",
              "      <td>Go until jurong point, crazy.. Available only ...</td>\n",
              "    </tr>\n",
              "    <tr>\n",
              "      <th>1</th>\n",
              "      <td>ham</td>\n",
              "      <td>Ok lar... Joking wif u oni...</td>\n",
              "    </tr>\n",
              "    <tr>\n",
              "      <th>2</th>\n",
              "      <td>spam</td>\n",
              "      <td>Free entry in 2 a wkly comp to win FA Cup fina...</td>\n",
              "    </tr>\n",
              "    <tr>\n",
              "      <th>3</th>\n",
              "      <td>ham</td>\n",
              "      <td>U dun say so early hor... U c already then say...</td>\n",
              "    </tr>\n",
              "    <tr>\n",
              "      <th>4</th>\n",
              "      <td>ham</td>\n",
              "      <td>Nah I don't think he goes to usf, he lives aro...</td>\n",
              "    </tr>\n",
              "  </tbody>\n",
              "</table>\n",
              "</div>"
            ],
            "text/plain": [
              "  label                                            message\n",
              "0   ham  Go until jurong point, crazy.. Available only ...\n",
              "1   ham                      Ok lar... Joking wif u oni...\n",
              "2  spam  Free entry in 2 a wkly comp to win FA Cup fina...\n",
              "3   ham  U dun say so early hor... U c already then say...\n",
              "4   ham  Nah I don't think he goes to usf, he lives aro..."
            ]
          },
          "execution_count": 8,
          "metadata": {},
          "output_type": "execute_result"
        }
      ],
      "source": [
        "messages.head()"
      ]
    },
    {
      "cell_type": "code",
      "execution_count": null,
      "id": "c3680798-cc49-4c51-bad8-ab0acfd3b21e",
      "metadata": {
        "id": "c3680798-cc49-4c51-bad8-ab0acfd3b21e",
        "outputId": "6317312a-4c00-4b18-dee8-7227796db018"
      },
      "outputs": [
        {
          "data": {
            "text/html": [
              "<div>\n",
              "<style scoped>\n",
              "    .dataframe tbody tr th:only-of-type {\n",
              "        vertical-align: middle;\n",
              "    }\n",
              "\n",
              "    .dataframe tbody tr th {\n",
              "        vertical-align: top;\n",
              "    }\n",
              "\n",
              "    .dataframe thead th {\n",
              "        text-align: right;\n",
              "    }\n",
              "</style>\n",
              "<table border=\"1\" class=\"dataframe\">\n",
              "  <thead>\n",
              "    <tr style=\"text-align: right;\">\n",
              "      <th></th>\n",
              "      <th>label</th>\n",
              "      <th>message</th>\n",
              "    </tr>\n",
              "  </thead>\n",
              "  <tbody>\n",
              "    <tr>\n",
              "      <th>count</th>\n",
              "      <td>5572</td>\n",
              "      <td>5572</td>\n",
              "    </tr>\n",
              "    <tr>\n",
              "      <th>unique</th>\n",
              "      <td>2</td>\n",
              "      <td>5169</td>\n",
              "    </tr>\n",
              "    <tr>\n",
              "      <th>top</th>\n",
              "      <td>ham</td>\n",
              "      <td>Sorry, I'll call later</td>\n",
              "    </tr>\n",
              "    <tr>\n",
              "      <th>freq</th>\n",
              "      <td>4825</td>\n",
              "      <td>30</td>\n",
              "    </tr>\n",
              "  </tbody>\n",
              "</table>\n",
              "</div>"
            ],
            "text/plain": [
              "       label                 message\n",
              "count   5572                    5572\n",
              "unique     2                    5169\n",
              "top      ham  Sorry, I'll call later\n",
              "freq    4825                      30"
            ]
          },
          "execution_count": 9,
          "metadata": {},
          "output_type": "execute_result"
        }
      ],
      "source": [
        "messages.describe()"
      ]
    },
    {
      "cell_type": "code",
      "execution_count": null,
      "id": "4ebe26b1-fec1-493b-b722-9a5d158149d1",
      "metadata": {
        "id": "4ebe26b1-fec1-493b-b722-9a5d158149d1",
        "outputId": "ecd68609-9fa8-45db-f04f-9546e66e176c"
      },
      "outputs": [
        {
          "data": {
            "text/html": [
              "<div>\n",
              "<style scoped>\n",
              "    .dataframe tbody tr th:only-of-type {\n",
              "        vertical-align: middle;\n",
              "    }\n",
              "\n",
              "    .dataframe tbody tr th {\n",
              "        vertical-align: top;\n",
              "    }\n",
              "\n",
              "    .dataframe thead tr th {\n",
              "        text-align: left;\n",
              "    }\n",
              "\n",
              "    .dataframe thead tr:last-of-type th {\n",
              "        text-align: right;\n",
              "    }\n",
              "</style>\n",
              "<table border=\"1\" class=\"dataframe\">\n",
              "  <thead>\n",
              "    <tr>\n",
              "      <th></th>\n",
              "      <th colspan=\"4\" halign=\"left\">message</th>\n",
              "    </tr>\n",
              "    <tr>\n",
              "      <th></th>\n",
              "      <th>count</th>\n",
              "      <th>unique</th>\n",
              "      <th>top</th>\n",
              "      <th>freq</th>\n",
              "    </tr>\n",
              "    <tr>\n",
              "      <th>label</th>\n",
              "      <th></th>\n",
              "      <th></th>\n",
              "      <th></th>\n",
              "      <th></th>\n",
              "    </tr>\n",
              "  </thead>\n",
              "  <tbody>\n",
              "    <tr>\n",
              "      <th>ham</th>\n",
              "      <td>4825</td>\n",
              "      <td>4516</td>\n",
              "      <td>Sorry, I'll call later</td>\n",
              "      <td>30</td>\n",
              "    </tr>\n",
              "    <tr>\n",
              "      <th>spam</th>\n",
              "      <td>747</td>\n",
              "      <td>653</td>\n",
              "      <td>Please call our customer service representativ...</td>\n",
              "      <td>4</td>\n",
              "    </tr>\n",
              "  </tbody>\n",
              "</table>\n",
              "</div>"
            ],
            "text/plain": [
              "      message                                                               \n",
              "        count unique                                                top freq\n",
              "label                                                                       \n",
              "ham      4825   4516                             Sorry, I'll call later   30\n",
              "spam      747    653  Please call our customer service representativ...    4"
            ]
          },
          "execution_count": 10,
          "metadata": {},
          "output_type": "execute_result"
        }
      ],
      "source": [
        "messages.groupby('label').describe()"
      ]
    },
    {
      "cell_type": "code",
      "execution_count": null,
      "id": "c4a87ea2-07ef-4dd7-a40d-371e5862ecf6",
      "metadata": {
        "id": "c4a87ea2-07ef-4dd7-a40d-371e5862ecf6"
      },
      "outputs": [],
      "source": [
        "messages['length'] = messages['message'].apply(len)"
      ]
    },
    {
      "cell_type": "code",
      "execution_count": null,
      "id": "b5d3a618-8ddb-41c1-a675-f6ff084930ee",
      "metadata": {
        "id": "b5d3a618-8ddb-41c1-a675-f6ff084930ee",
        "outputId": "9b47e9df-2d18-4767-e3d5-23f767c97ac5"
      },
      "outputs": [
        {
          "data": {
            "text/html": [
              "<div>\n",
              "<style scoped>\n",
              "    .dataframe tbody tr th:only-of-type {\n",
              "        vertical-align: middle;\n",
              "    }\n",
              "\n",
              "    .dataframe tbody tr th {\n",
              "        vertical-align: top;\n",
              "    }\n",
              "\n",
              "    .dataframe thead th {\n",
              "        text-align: right;\n",
              "    }\n",
              "</style>\n",
              "<table border=\"1\" class=\"dataframe\">\n",
              "  <thead>\n",
              "    <tr style=\"text-align: right;\">\n",
              "      <th></th>\n",
              "      <th>label</th>\n",
              "      <th>message</th>\n",
              "      <th>length</th>\n",
              "    </tr>\n",
              "  </thead>\n",
              "  <tbody>\n",
              "    <tr>\n",
              "      <th>0</th>\n",
              "      <td>ham</td>\n",
              "      <td>Go until jurong point, crazy.. Available only ...</td>\n",
              "      <td>111</td>\n",
              "    </tr>\n",
              "    <tr>\n",
              "      <th>1</th>\n",
              "      <td>ham</td>\n",
              "      <td>Ok lar... Joking wif u oni...</td>\n",
              "      <td>29</td>\n",
              "    </tr>\n",
              "    <tr>\n",
              "      <th>2</th>\n",
              "      <td>spam</td>\n",
              "      <td>Free entry in 2 a wkly comp to win FA Cup fina...</td>\n",
              "      <td>155</td>\n",
              "    </tr>\n",
              "    <tr>\n",
              "      <th>3</th>\n",
              "      <td>ham</td>\n",
              "      <td>U dun say so early hor... U c already then say...</td>\n",
              "      <td>49</td>\n",
              "    </tr>\n",
              "    <tr>\n",
              "      <th>4</th>\n",
              "      <td>ham</td>\n",
              "      <td>Nah I don't think he goes to usf, he lives aro...</td>\n",
              "      <td>61</td>\n",
              "    </tr>\n",
              "  </tbody>\n",
              "</table>\n",
              "</div>"
            ],
            "text/plain": [
              "  label                                            message  length\n",
              "0   ham  Go until jurong point, crazy.. Available only ...     111\n",
              "1   ham                      Ok lar... Joking wif u oni...      29\n",
              "2  spam  Free entry in 2 a wkly comp to win FA Cup fina...     155\n",
              "3   ham  U dun say so early hor... U c already then say...      49\n",
              "4   ham  Nah I don't think he goes to usf, he lives aro...      61"
            ]
          },
          "execution_count": 12,
          "metadata": {},
          "output_type": "execute_result"
        }
      ],
      "source": [
        "messages.head()"
      ]
    },
    {
      "cell_type": "code",
      "execution_count": null,
      "id": "46df899c-9a85-4f65-9dd5-eada0c964b4b",
      "metadata": {
        "id": "46df899c-9a85-4f65-9dd5-eada0c964b4b"
      },
      "outputs": [],
      "source": [
        "import matplotlib.pyplot as plt\n",
        "import seaborn as sns\n",
        "%matplotlib inline"
      ]
    },
    {
      "cell_type": "code",
      "execution_count": null,
      "id": "f303b6c7-0e82-4a01-8099-407950ed6fa9",
      "metadata": {
        "id": "f303b6c7-0e82-4a01-8099-407950ed6fa9",
        "outputId": "38f3ff1a-d16f-4699-af25-0eabe152092b"
      },
      "outputs": [
        {
          "data": {
            "text/plain": [
              "<Axes: ylabel='Frequency'>"
            ]
          },
          "execution_count": 14,
          "metadata": {},
          "output_type": "execute_result"
        },
        {
          "data": {
            "image/png": "[encoded data removed]",
            "text/plain": [
              "<Figure size 640x480 with 1 Axes>"
            ]
          },
          "metadata": {},
          "output_type": "display_data"
        }
      ],
      "source": [
        "messages['length'].plot.hist(bins=100)"
      ]
    },
    {
      "cell_type": "code",
      "execution_count": null,
      "id": "fc81900b-c449-4365-baf7-26534769c4b2",
      "metadata": {
        "id": "fc81900b-c449-4365-baf7-26534769c4b2",
        "outputId": "f7f82afd-d76c-43c4-aae2-9ce473fb0cf5"
      },
      "outputs": [
        {
          "data": {
            "text/plain": [
              "count    5572.000000\n",
              "mean       80.489950\n",
              "std        59.942907\n",
              "min         2.000000\n",
              "25%        36.000000\n",
              "50%        62.000000\n",
              "75%       122.000000\n",
              "max       910.000000\n",
              "Name: length, dtype: float64"
            ]
          },
          "execution_count": 15,
          "metadata": {},
          "output_type": "execute_result"
        }
      ],
      "source": [
        "messages['length'].describe()"
      ]
    },
    {
      "cell_type": "code",
      "execution_count": null,
      "id": "9174ae0b-8575-4a62-85c9-ce889333a3ef",
      "metadata": {
        "id": "9174ae0b-8575-4a62-85c9-ce889333a3ef",
        "outputId": "345a1008-7796-47f6-cbb8-dd6d13f13a97"
      },
      "outputs": [
        {
          "data": {
            "text/plain": [
              "\"For me the love should start with attraction.i should feel that I need her every time around me.she should be the first thing which comes in my thoughts.I would start the day and end it with her.she should be there every time I dream.love will be then when my every breath has her name.my life should happen around her.my life will be named to her.I would cry for her.will give all my happiness and take all her sorrows.I will be ready to fight with anyone for her.I will be in love when I will be doing the craziest things for her.love will be when I don't have to proove anyone that my girl is the most beautiful lady on the whole planet.I will always be singing praises for her.love will be when I start up making chicken curry and end up makiing sambar.life will be the most beautiful then.will get every morning and thank god for the day because she is with me.I would like to say a lot..will tell later..\""
            ]
          },
          "execution_count": 16,
          "metadata": {},
          "output_type": "execute_result"
        }
      ],
      "source": [
        "messages[messages['length']==910]['message'].iloc[0]"
      ]
    },
    {
      "cell_type": "code",
      "execution_count": null,
      "id": "d89e8f0b-90bb-4d54-a001-4ebb00264f72",
      "metadata": {
        "id": "d89e8f0b-90bb-4d54-a001-4ebb00264f72",
        "outputId": "11ab484d-e0d3-43b1-fce2-2922333bfe9b"
      },
      "outputs": [
        {
          "data": {
            "text/plain": [
              "array([<Axes: title={'center': 'ham'}>, <Axes: title={'center': 'spam'}>],\n",
              "      dtype=object)"
            ]
          },
          "execution_count": 17,
          "metadata": {},
          "output_type": "execute_result"
        },
        {
          "data": {
            "image/png": "[encoded data removed]",
            "text/plain": [
              "<Figure size 1000x400 with 2 Axes>"
            ]
          },
          "metadata": {},
          "output_type": "display_data"
        }
      ],
      "source": [
        "messages.hist(column='length', by='label', bins=60, figsize=(10,4))"
      ]
    },
    {
      "cell_type": "code",
      "execution_count": null,
      "id": "0e633ec6-700e-41ed-9924-aa69a8c704db",
      "metadata": {
        "id": "0e633ec6-700e-41ed-9924-aa69a8c704db"
      },
      "outputs": [],
      "source": [
        "import string"
      ]
    },
    {
      "cell_type": "code",
      "execution_count": null,
      "id": "2dddb28a-1617-4f37-9553-f8d0951370c8",
      "metadata": {
        "id": "2dddb28a-1617-4f37-9553-f8d0951370c8"
      },
      "outputs": [],
      "source": [
        "mess = 'Sample message! Notice: it has punctuation.'"
      ]
    },
    {
      "cell_type": "code",
      "execution_count": null,
      "id": "5b52f539-b4b6-46e8-ad66-825b939f4de3",
      "metadata": {
        "id": "5b52f539-b4b6-46e8-ad66-825b939f4de3"
      },
      "outputs": [],
      "source": [
        "nopunc = [c for c in mess if c not in string.punctuation]"
      ]
    },
    {
      "cell_type": "code",
      "execution_count": null,
      "id": "5a02bafa-b07c-4b8f-9220-8ebd094a43c5",
      "metadata": {
        "id": "5a02bafa-b07c-4b8f-9220-8ebd094a43c5"
      },
      "outputs": [],
      "source": [
        "from nltk.corpus import stopwords"
      ]
    },
    {
      "cell_type": "code",
      "execution_count": null,
      "id": "c5a0654a-0ce3-466b-b5fb-899da58384af",
      "metadata": {
        "id": "c5a0654a-0ce3-466b-b5fb-899da58384af"
      },
      "outputs": [],
      "source": [
        "#stopwords.words('english')"
      ]
    },
    {
      "cell_type": "code",
      "execution_count": null,
      "id": "d2f84380-90ff-4620-b54e-2c825f3c0dcb",
      "metadata": {
        "id": "d2f84380-90ff-4620-b54e-2c825f3c0dcb"
      },
      "outputs": [],
      "source": [
        "nopunc = ''.join(nopunc)"
      ]
    },
    {
      "cell_type": "code",
      "execution_count": null,
      "id": "c8d452cc-deb6-4e98-aad6-08c23a4ccfcb",
      "metadata": {
        "id": "c8d452cc-deb6-4e98-aad6-08c23a4ccfcb",
        "outputId": "3aef7050-4a3d-4924-a5a5-7a08041795b9"
      },
      "outputs": [
        {
          "data": {
            "text/plain": [
              "'Sample message Notice it has punctuation'"
            ]
          },
          "execution_count": 24,
          "metadata": {},
          "output_type": "execute_result"
        }
      ],
      "source": [
        "nopunc"
      ]
    },
    {
      "cell_type": "code",
      "execution_count": null,
      "id": "a182565b-d10a-48ea-b95e-6530ba9e3384",
      "metadata": {
        "id": "a182565b-d10a-48ea-b95e-6530ba9e3384"
      },
      "outputs": [],
      "source": [
        "clean_message = [word for word in nopunc.split() if word.lower() not in stopwords.words('english')]"
      ]
    },
    {
      "cell_type": "code",
      "execution_count": null,
      "id": "61257a69-8656-42a2-ad90-00c47891ca18",
      "metadata": {
        "id": "61257a69-8656-42a2-ad90-00c47891ca18",
        "outputId": "cc2f5041-28fb-4ff2-96ef-029c6504df50"
      },
      "outputs": [
        {
          "data": {
            "text/plain": [
              "['Sample', 'message', 'Notice', 'punctuation']"
            ]
          },
          "execution_count": 26,
          "metadata": {},
          "output_type": "execute_result"
        }
      ],
      "source": [
        "clean_message"
      ]
    },
    {
      "cell_type": "code",
      "execution_count": null,
      "id": "d00472ee-2fd6-47fa-a5a6-80e7de7f9e91",
      "metadata": {
        "id": "d00472ee-2fd6-47fa-a5a6-80e7de7f9e91"
      },
      "outputs": [],
      "source": [
        "def text_process(mess):\n",
        "    # Check characters to see if they are in punctuation\n",
        "    nopunc = [char for char in mess if char not in string.punctuation]\n",
        "    # Join the characters again to form the string.\n",
        "    nopunc = ''.join(nopunc)\n",
        "    # Now just remove any stopwords\n",
        "    return [word for word in nopunc.split() if word.lower() not in stopwords.words('english')]"
      ]
    },
    {
      "cell_type": "code",
      "execution_count": null,
      "id": "59646063-d03f-4ed5-8e2d-80945344fdff",
      "metadata": {
        "id": "59646063-d03f-4ed5-8e2d-80945344fdff",
        "outputId": "64c7cc86-7239-41c2-b176-14f5b304a263"
      },
      "outputs": [
        {
          "data": {
            "text/plain": [
              "0    [Go, jurong, point, crazy, Available, bugis, n...\n",
              "1                       [Ok, lar, Joking, wif, u, oni]\n",
              "2    [Free, entry, 2, wkly, comp, win, FA, Cup, fin...\n",
              "3        [U, dun, say, early, hor, U, c, already, say]\n",
              "4    [Nah, dont, think, goes, usf, lives, around, t...\n",
              "Name: message, dtype: object"
            ]
          },
          "execution_count": 28,
          "metadata": {},
          "output_type": "execute_result"
        }
      ],
      "source": [
        "messages['message'].head().apply(text_process)"
      ]
    },
    {
      "cell_type": "code",
      "execution_count": null,
      "id": "fa130029-973a-4500-b5aa-de36397e6a89",
      "metadata": {
        "id": "fa130029-973a-4500-b5aa-de36397e6a89"
      },
      "outputs": [],
      "source": [
        "from sklearn.feature_extraction.text import CountVectorizer"
      ]
    },
    {
      "cell_type": "code",
      "execution_count": null,
      "id": "bfbddf1b-483a-44ad-9e4a-85e9c7b5d1be",
      "metadata": {
        "id": "bfbddf1b-483a-44ad-9e4a-85e9c7b5d1be"
      },
      "outputs": [],
      "source": [
        "bow_transformer = CountVectorizer(analyzer=text_process).fit(messages['message'])"
      ]
    },
    {
      "cell_type": "code",
      "execution_count": null,
      "id": "a8c389cf-bb1c-4177-a7fe-e4efbc3b25f8",
      "metadata": {
        "id": "a8c389cf-bb1c-4177-a7fe-e4efbc3b25f8",
        "outputId": "b7536855-49da-4cf0-e177-6b4d9bb2d814"
      },
      "outputs": [
        {
          "name": "stdout",
          "output_type": "stream",
          "text": [
            "11425\n"
          ]
        }
      ],
      "source": [
        "print(len(bow_transformer.vocabulary_))"
      ]
    },
    {
      "cell_type": "code",
      "execution_count": null,
      "id": "64b90eb6-4990-480c-8a5e-22c7d84998b1",
      "metadata": {
        "id": "64b90eb6-4990-480c-8a5e-22c7d84998b1"
      },
      "outputs": [],
      "source": [
        "mess4 = messages['message'][3]"
      ]
    },
    {
      "cell_type": "code",
      "execution_count": null,
      "id": "f64d92b5-ecb3-465e-bad5-4de611117835",
      "metadata": {
        "id": "f64d92b5-ecb3-465e-bad5-4de611117835",
        "outputId": "ba5b76e5-4a48-4ac3-f4fa-6c25e88abac8"
      },
      "outputs": [
        {
          "name": "stdout",
          "output_type": "stream",
          "text": [
            "U dun say so early hor... U c already then say...\n"
          ]
        }
      ],
      "source": [
        "print(mess4)"
      ]
    },
    {
      "cell_type": "code",
      "execution_count": null,
      "id": "ed9aefe4-ca93-443b-847a-470d1e7ca7df",
      "metadata": {
        "id": "ed9aefe4-ca93-443b-847a-470d1e7ca7df"
      },
      "outputs": [],
      "source": [
        "bow4 = bow_transformer.transform([mess4])"
      ]
    },
    {
      "cell_type": "code",
      "execution_count": null,
      "id": "439f9c35-2e29-4ec1-af30-ec5a5cde71f2",
      "metadata": {
        "id": "439f9c35-2e29-4ec1-af30-ec5a5cde71f2",
        "outputId": "968e3671-6d48-4128-8043-04cc6ee0591a"
      },
      "outputs": [
        {
          "name": "stdout",
          "output_type": "stream",
          "text": [
            "<Compressed Sparse Row sparse matrix of dtype 'int64'\n",
            "\twith 7 stored elements and shape (1, 11425)>\n",
            "  Coords\tValues\n",
            "  (0, 4068)\t2\n",
            "  (0, 4629)\t1\n",
            "  (0, 5261)\t1\n",
            "  (0, 6204)\t1\n",
            "  (0, 6222)\t1\n",
            "  (0, 7186)\t1\n",
            "  (0, 9554)\t2\n"
          ]
        }
      ],
      "source": [
        "print(bow4)"
      ]
    },
    {
      "cell_type": "code",
      "execution_count": null,
      "id": "9dcb3b19-c7fd-43d6-a425-373d0af3723f",
      "metadata": {
        "id": "9dcb3b19-c7fd-43d6-a425-373d0af3723f",
        "outputId": "7a25bcd8-d7e3-42cb-db40-8f4a383d83db"
      },
      "outputs": [
        {
          "name": "stdout",
          "output_type": "stream",
          "text": [
            "UIN\n",
            "schedule\n"
          ]
        }
      ],
      "source": [
        "print(bow_transformer.get_feature_names_out()[4073])\n",
        "print(bow_transformer.get_feature_names_out()[9570])"
      ]
    },
    {
      "cell_type": "code",
      "execution_count": null,
      "id": "36b3dbf5-2950-4ef7-9451-1d83b7d43c4a",
      "metadata": {
        "id": "36b3dbf5-2950-4ef7-9451-1d83b7d43c4a",
        "outputId": "82a205ab-69b7-4f33-992e-52d6c3c1fa9e"
      },
      "outputs": [
        {
          "name": "stdout",
          "output_type": "stream",
          "text": [
            "CPU times: total: 8.89 s\n",
            "Wall time: 9.08 s\n"
          ]
        }
      ],
      "source": [
        "%%time\n",
        "messages_bow = bow_transformer.transform(messages['message'])"
      ]
    },
    {
      "cell_type": "code",
      "execution_count": null,
      "id": "acdb74e6-c1f7-4198-b262-3e221340278c",
      "metadata": {
        "id": "acdb74e6-c1f7-4198-b262-3e221340278c",
        "outputId": "b9d80722-4111-49bd-a491-e9d005f5a3d6"
      },
      "outputs": [
        {
          "name": "stdout",
          "output_type": "stream",
          "text": [
            "Shape of the sparse matrix  (5572, 11425)\n"
          ]
        }
      ],
      "source": [
        "print('Shape of the sparse matrix ', messages_bow.shape)"
      ]
    },
    {
      "cell_type": "code",
      "execution_count": null,
      "id": "1d74e5a3-c265-4a8c-89df-2dc81efb2b06",
      "metadata": {
        "id": "1d74e5a3-c265-4a8c-89df-2dc81efb2b06",
        "outputId": "86a32aa3-9933-4601-ab5c-55725b882363"
      },
      "outputs": [
        {
          "data": {
            "text/plain": [
              "50548"
            ]
          },
          "execution_count": 39,
          "metadata": {},
          "output_type": "execute_result"
        }
      ],
      "source": [
        "messages_bow.nnz"
      ]
    },
    {
      "cell_type": "code",
      "execution_count": null,
      "id": "4f1d6604-4d20-4b9f-92eb-5e3c4d5adffe",
      "metadata": {
        "id": "4f1d6604-4d20-4b9f-92eb-5e3c4d5adffe"
      },
      "outputs": [],
      "source": [
        "sparsity = (100.0 * messages_bow.nnz / (messages_bow.shape[0] * messages_bow.shape[1]))"
      ]
    },
    {
      "cell_type": "code",
      "execution_count": null,
      "id": "388a2da6-028d-4790-9481-4227017c743c",
      "metadata": {
        "id": "388a2da6-028d-4790-9481-4227017c743c",
        "outputId": "ca3689da-bf75-4b45-fca2-f29aae651247"
      },
      "outputs": [
        {
          "name": "stdout",
          "output_type": "stream",
          "text": [
            "0.07940295412668218\n"
          ]
        }
      ],
      "source": [
        "# basically its comparing no of non-zero messages to actual total number of messages\n",
        "print(sparsity)"
      ]
    },
    {
      "cell_type": "code",
      "execution_count": null,
      "id": "b29427fe-538d-4778-9a95-e00c291d54d2",
      "metadata": {
        "id": "b29427fe-538d-4778-9a95-e00c291d54d2"
      },
      "outputs": [],
      "source": [
        "from sklearn.feature_extraction.text import TfidfTransformer"
      ]
    },
    {
      "cell_type": "code",
      "execution_count": null,
      "id": "2543599e-47d6-4536-a87d-87d6decf12c7",
      "metadata": {
        "id": "2543599e-47d6-4536-a87d-87d6decf12c7",
        "outputId": "694c60f5-1458-4479-e336-c0d11ad0a385"
      },
      "outputs": [
        {
          "name": "stdout",
          "output_type": "stream",
          "text": [
            "<Compressed Sparse Row sparse matrix of dtype 'float64'\n",
            "\twith 7 stored elements and shape (1, 11425)>\n",
            "  Coords\tValues\n",
            "  (0, 4068)\t0.4083258993338407\n",
            "  (0, 4629)\t0.2661980190608719\n",
            "  (0, 5261)\t0.2972995740586873\n",
            "  (0, 6204)\t0.2995379972369742\n",
            "  (0, 6222)\t0.31872168929491496\n",
            "  (0, 7186)\t0.4389365653379858\n",
            "  (0, 9554)\t0.5385626262927565\n"
          ]
        }
      ],
      "source": [
        "tfidf_transformer = TfidfTransformer().fit(messages_bow)\n",
        "tfidf4 = tfidf_transformer.transform(bow4)\n",
        "print(tfidf4)"
      ]
    },
    {
      "cell_type": "code",
      "execution_count": null,
      "id": "d93fab0f-4d64-4838-9b64-0f30bddd9af1",
      "metadata": {
        "id": "d93fab0f-4d64-4838-9b64-0f30bddd9af1",
        "outputId": "531e4e16-6aa8-4a92-cdcf-73e1be717520"
      },
      "outputs": [
        {
          "data": {
            "text/plain": [
              "np.float64(8.527076498901426)"
            ]
          },
          "execution_count": 44,
          "metadata": {},
          "output_type": "execute_result"
        }
      ],
      "source": [
        "tfidf_transformer.idf_[bow_transformer.vocabulary_['university']]"
      ]
    },
    {
      "cell_type": "code",
      "execution_count": null,
      "id": "3b2216dd-253e-4b79-bfd5-88cddb48151d",
      "metadata": {
        "id": "3b2216dd-253e-4b79-bfd5-88cddb48151d"
      },
      "outputs": [],
      "source": [
        "messages_tfidf = tfidf_transformer.transform(messages_bow)"
      ]
    },
    {
      "cell_type": "code",
      "execution_count": null,
      "id": "95ae4976-21c6-4381-b4a8-c1655136b1dd",
      "metadata": {
        "id": "95ae4976-21c6-4381-b4a8-c1655136b1dd"
      },
      "outputs": [],
      "source": [
        "from sklearn.naive_bayes import MultinomialNB"
      ]
    },
    {
      "cell_type": "code",
      "execution_count": null,
      "id": "b1d2cc11-c4bc-4ee3-9808-00f075409a40",
      "metadata": {
        "id": "b1d2cc11-c4bc-4ee3-9808-00f075409a40"
      },
      "outputs": [],
      "source": [
        "spam_detect_model = MultinomialNB().fit(messages_tfidf, messages['label'])"
      ]
    },
    {
      "cell_type": "code",
      "execution_count": null,
      "id": "11e42e8d-c344-4d69-af6b-47e6bf20e82d",
      "metadata": {
        "id": "11e42e8d-c344-4d69-af6b-47e6bf20e82d",
        "outputId": "f8a2a528-9a3e-46dd-ec83-3102ac080275"
      },
      "outputs": [
        {
          "data": {
            "text/plain": [
              "np.str_('ham')"
            ]
          },
          "execution_count": 48,
          "metadata": {},
          "output_type": "execute_result"
        }
      ],
      "source": [
        "spam_detect_model.predict(tfidf4)[0]"
      ]
    },
    {
      "cell_type": "code",
      "execution_count": null,
      "id": "b075981a-c467-4c49-9929-39ad6e8430c6",
      "metadata": {
        "id": "b075981a-c467-4c49-9929-39ad6e8430c6",
        "outputId": "ff5a3881-c9f7-4c30-db8e-fe794084840f"
      },
      "outputs": [
        {
          "data": {
            "text/plain": [
              "'ham'"
            ]
          },
          "execution_count": 49,
          "metadata": {},
          "output_type": "execute_result"
        }
      ],
      "source": [
        "messages['label'][3]"
      ]
    },
    {
      "cell_type": "code",
      "execution_count": null,
      "id": "20812bac-f53d-4035-ae4f-16bf36d4c24f",
      "metadata": {
        "id": "20812bac-f53d-4035-ae4f-16bf36d4c24f"
      },
      "outputs": [],
      "source": [
        "from sklearn.model_selection import train_test_split\n",
        "from sklearn.pipeline import Pipeline"
      ]
    },
    {
      "cell_type": "code",
      "execution_count": null,
      "id": "38783c57-14c4-4478-a24b-e88ff18e39a9",
      "metadata": {
        "id": "38783c57-14c4-4478-a24b-e88ff18e39a9"
      },
      "outputs": [],
      "source": [
        "pipeline = Pipeline([\n",
        "    ('bow', CountVectorizer(analyzer=text_process)),\n",
        "    ('tfidf', TfidfTransformer()),\n",
        "    ('classifier', MultinomialNB())\n",
        "])"
      ]
    },
    {
      "cell_type": "code",
      "execution_count": null,
      "id": "fa0983d9-c995-4beb-834a-0bf1b3ed5da3",
      "metadata": {
        "id": "fa0983d9-c995-4beb-834a-0bf1b3ed5da3"
      },
      "outputs": [],
      "source": [
        "msg_train, msg_test, label_train, label_test = train_test_split(messages['message'], messages['label'], test_size=0.2)"
      ]
    },
    {
      "cell_type": "code",
      "execution_count": null,
      "id": "0cb23eeb-97eb-4c0a-a462-a3ff40e70133",
      "metadata": {
        "id": "0cb23eeb-97eb-4c0a-a462-a3ff40e70133",
        "outputId": "924f5473-a5d3-44e0-ea22-43ffbc795f01"
      },
      "outputs": [
        {
          "data": {
            "text/html": [
              "<style>#sk-container-id-1 {\n",
              "  /* Definition of color scheme common for light and dark mode */\n",
              "  --sklearn-color-text: black;\n",
              "  --sklearn-color-line: gray;\n",
              "  /* Definition of color scheme for unfitted estimators */\n",
              "  --sklearn-color-unfitted-level-0: #fff5e6;\n",
              "  --sklearn-color-unfitted-level-1: #f6e4d2;\n",
              "  --sklearn-color-unfitted-level-2: #ffe0b3;\n",
              "  --sklearn-color-unfitted-level-3: chocolate;\n",
              "  /* Definition of color scheme for fitted estimators */\n",
              "  --sklearn-color-fitted-level-0: #f0f8ff;\n",
              "  --sklearn-color-fitted-level-1: #d4ebff;\n",
              "  --sklearn-color-fitted-level-2: #b3dbfd;\n",
              "  --sklearn-color-fitted-level-3: cornflowerblue;\n",
              "\n",
              "  /* Specific color for light theme */\n",
              "  --sklearn-color-text-on-default-background: var(--sg-text-color, var(--theme-code-foreground, var(--jp-content-font-color1, black)));\n",
              "  --sklearn-color-background: var(--sg-background-color, var(--theme-background, var(--jp-layout-color0, white)));\n",
              "  --sklearn-color-border-box: var(--sg-text-color, var(--theme-code-foreground, var(--jp-content-font-color1, black)));\n",
              "  --sklearn-color-icon: #696969;\n",
              "\n",
              "  @media (prefers-color-scheme: dark) {\n",
              "    /* Redefinition of color scheme for dark theme */\n",
              "    --sklearn-color-text-on-default-background: var(--sg-text-color, var(--theme-code-foreground, var(--jp-content-font-color1, white)));\n",
              "    --sklearn-color-background: var(--sg-background-color, var(--theme-background, var(--jp-layout-color0, #111)));\n",
              "    --sklearn-color-border-box: var(--sg-text-color, var(--theme-code-foreground, var(--jp-content-font-color1, white)));\n",
              "    --sklearn-color-icon: #878787;\n",
              "  }\n",
              "}\n",
              "\n",
              "#sk-container-id-1 {\n",
              "  color: var(--sklearn-color-text);\n",
              "}\n",
              "\n",
              "#sk-container-id-1 pre {\n",
              "  padding: 0;\n",
              "}\n",
              "\n",
              "#sk-container-id-1 input.sk-hidden--visually {\n",
              "  border: 0;\n",
              "  clip: rect(1px 1px 1px 1px);\n",
              "  clip: rect(1px, 1px, 1px, 1px);\n",
              "  height: 1px;\n",
              "  margin: -1px;\n",
              "  overflow: hidden;\n",
              "  padding: 0;\n",
              "  position: absolute;\n",
              "  width: 1px;\n",
              "}\n",
              "\n",
              "#sk-container-id-1 div.sk-dashed-wrapped {\n",
              "  border: 1px dashed var(--sklearn-color-line);\n",
              "  margin: 0 0.4em 0.5em 0.4em;\n",
              "  box-sizing: border-box;\n",
              "  padding-bottom: 0.4em;\n",
              "  background-color: var(--sklearn-color-background);\n",
              "}\n",
              "\n",
              "#sk-container-id-1 div.sk-container {\n",
              "  /* jupyter's `normalize.less` sets `[hidden] { display: none; }`\n",
              "     but bootstrap.min.css set `[hidden] { display: none !important; }`\n",
              "     so we also need the `!important` here to be able to override the\n",
              "     default hidden behavior on the sphinx rendered scikit-learn.org.\n",
              "     See: https://github.com/scikit-learn/scikit-learn/issues/21755 */\n",
              "  display: inline-block !important;\n",
              "  position: relative;\n",
              "}\n",
              "\n",
              "#sk-container-id-1 div.sk-text-repr-fallback {\n",
              "  display: none;\n",
              "}\n",
              "\n",
              "div.sk-parallel-item,\n",
              "div.sk-serial,\n",
              "div.sk-item {\n",
              "  /* draw centered vertical line to link estimators */\n",
              "  background-image: linear-gradient(var(--sklearn-color-text-on-default-background), var(--sklearn-color-text-on-default-background));\n",
              "  background-size: 2px 100%;\n",
              "  background-repeat: no-repeat;\n",
              "  background-position: center center;\n",
              "}\n",
              "\n",
              "/* Parallel-specific style estimator block */\n",
              "\n",
              "#sk-container-id-1 div.sk-parallel-item::after {\n",
              "  content: \"\";\n",
              "  width: 100%;\n",
              "  border-bottom: 2px solid var(--sklearn-color-text-on-default-background);\n",
              "  flex-grow: 1;\n",
              "}\n",
              "\n",
              "#sk-container-id-1 div.sk-parallel {\n",
              "  display: flex;\n",
              "  align-items: stretch;\n",
              "  justify-content: center;\n",
              "  background-color: var(--sklearn-color-background);\n",
              "  position: relative;\n",
              "}\n",
              "\n",
              "#sk-container-id-1 div.sk-parallel-item {\n",
              "  display: flex;\n",
              "  flex-direction: column;\n",
              "}\n",
              "\n",
              "#sk-container-id-1 div.sk-parallel-item:first-child::after {\n",
              "  align-self: flex-end;\n",
              "  width: 50%;\n",
              "}\n",
              "\n",
              "#sk-container-id-1 div.sk-parallel-item:last-child::after {\n",
              "  align-self: flex-start;\n",
              "  width: 50%;\n",
              "}\n",
              "\n",
              "#sk-container-id-1 div.sk-parallel-item:only-child::after {\n",
              "  width: 0;\n",
              "}\n",
              "\n",
              "/* Serial-specific style estimator block */\n",
              "\n",
              "#sk-container-id-1 div.sk-serial {\n",
              "  display: flex;\n",
              "  flex-direction: column;\n",
              "  align-items: center;\n",
              "  background-color: var(--sklearn-color-background);\n",
              "  padding-right: 1em;\n",
              "  padding-left: 1em;\n",
              "}\n",
              "\n",
              "\n",
              "/* Toggleable style: style used for estimator/Pipeline/ColumnTransformer box that is\n",
              "clickable and can be expanded/collapsed.\n",
              "- Pipeline and ColumnTransformer use this feature and define the default style\n",
              "- Estimators will overwrite some part of the style using the `sk-estimator` class\n",
              "*/\n",
              "\n",
              "/* Pipeline and ColumnTransformer style (default) */\n",
              "\n",
              "#sk-container-id-1 div.sk-toggleable {\n",
              "  /* Default theme specific background. It is overwritten whether we have a\n",
              "  specific estimator or a Pipeline/ColumnTransformer */\n",
              "  background-color: var(--sklearn-color-background);\n",
              "}\n",
              "\n",
              "/* Toggleable label */\n",
              "#sk-container-id-1 label.sk-toggleable__label {\n",
              "  cursor: pointer;\n",
              "  display: block;\n",
              "  width: 100%;\n",
              "  margin-bottom: 0;\n",
              "  padding: 0.5em;\n",
              "  box-sizing: border-box;\n",
              "  text-align: center;\n",
              "}\n",
              "\n",
              "#sk-container-id-1 label.sk-toggleable__label-arrow:before {\n",
              "  /* Arrow on the left of the label */\n",
              "  content: \"▸\";\n",
              "  float: left;\n",
              "  margin-right: 0.25em;\n",
              "  color: var(--sklearn-color-icon);\n",
              "}\n",
              "\n",
              "#sk-container-id-1 label.sk-toggleable__label-arrow:hover:before {\n",
              "  color: var(--sklearn-color-text);\n",
              "}\n",
              "\n",
              "/* Toggleable content - dropdown */\n",
              "\n",
              "#sk-container-id-1 div.sk-toggleable__content {\n",
              "  max-height: 0;\n",
              "  max-width: 0;\n",
              "  overflow: hidden;\n",
              "  text-align: left;\n",
              "  /* unfitted */\n",
              "  background-color: var(--sklearn-color-unfitted-level-0);\n",
              "}\n",
              "\n",
              "#sk-container-id-1 div.sk-toggleable__content.fitted {\n",
              "  /* fitted */\n",
              "  background-color: var(--sklearn-color-fitted-level-0);\n",
              "}\n",
              "\n",
              "#sk-container-id-1 div.sk-toggleable__content pre {\n",
              "  margin: 0.2em;\n",
              "  border-radius: 0.25em;\n",
              "  color: var(--sklearn-color-text);\n",
              "  /* unfitted */\n",
              "  background-color: var(--sklearn-color-unfitted-level-0);\n",
              "}\n",
              "\n",
              "#sk-container-id-1 div.sk-toggleable__content.fitted pre {\n",
              "  /* unfitted */\n",
              "  background-color: var(--sklearn-color-fitted-level-0);\n",
              "}\n",
              "\n",
              "#sk-container-id-1 input.sk-toggleable__control:checked~div.sk-toggleable__content {\n",
              "  /* Expand drop-down */\n",
              "  max-height: 200px;\n",
              "  max-width: 100%;\n",
              "  overflow: auto;\n",
              "}\n",
              "\n",
              "#sk-container-id-1 input.sk-toggleable__control:checked~label.sk-toggleable__label-arrow:before {\n",
              "  content: \"▾\";\n",
              "}\n",
              "\n",
              "/* Pipeline/ColumnTransformer-specific style */\n",
              "\n",
              "#sk-container-id-1 div.sk-label input.sk-toggleable__control:checked~label.sk-toggleable__label {\n",
              "  color: var(--sklearn-color-text);\n",
              "  background-color: var(--sklearn-color-unfitted-level-2);\n",
              "}\n",
              "\n",
              "#sk-container-id-1 div.sk-label.fitted input.sk-toggleable__control:checked~label.sk-toggleable__label {\n",
              "  background-color: var(--sklearn-color-fitted-level-2);\n",
              "}\n",
              "\n",
              "/* Estimator-specific style */\n",
              "\n",
              "/* Colorize estimator box */\n",
              "#sk-container-id-1 div.sk-estimator input.sk-toggleable__control:checked~label.sk-toggleable__label {\n",
              "  /* unfitted */\n",
              "  background-color: var(--sklearn-color-unfitted-level-2);\n",
              "}\n",
              "\n",
              "#sk-container-id-1 div.sk-estimator.fitted input.sk-toggleable__control:checked~label.sk-toggleable__label {\n",
              "  /* fitted */\n",
              "  background-color: var(--sklearn-color-fitted-level-2);\n",
              "}\n",
              "\n",
              "#sk-container-id-1 div.sk-label label.sk-toggleable__label,\n",
              "#sk-container-id-1 div.sk-label label {\n",
              "  /* The background is the default theme color */\n",
              "  color: var(--sklearn-color-text-on-default-background);\n",
              "}\n",
              "\n",
              "/* On hover, darken the color of the background */\n",
              "#sk-container-id-1 div.sk-label:hover label.sk-toggleable__label {\n",
              "  color: var(--sklearn-color-text);\n",
              "  background-color: var(--sklearn-color-unfitted-level-2);\n",
              "}\n",
              "\n",
              "/* Label box, darken color on hover, fitted */\n",
              "#sk-container-id-1 div.sk-label.fitted:hover label.sk-toggleable__label.fitted {\n",
              "  color: var(--sklearn-color-text);\n",
              "  background-color: var(--sklearn-color-fitted-level-2);\n",
              "}\n",
              "\n",
              "/* Estimator label */\n",
              "\n",
              "#sk-container-id-1 div.sk-label label {\n",
              "  font-family: monospace;\n",
              "  font-weight: bold;\n",
              "  display: inline-block;\n",
              "  line-height: 1.2em;\n",
              "}\n",
              "\n",
              "#sk-container-id-1 div.sk-label-container {\n",
              "  text-align: center;\n",
              "}\n",
              "\n",
              "/* Estimator-specific */\n",
              "#sk-container-id-1 div.sk-estimator {\n",
              "  font-family: monospace;\n",
              "  border: 1px dotted var(--sklearn-color-border-box);\n",
              "  border-radius: 0.25em;\n",
              "  box-sizing: border-box;\n",
              "  margin-bottom: 0.5em;\n",
              "  /* unfitted */\n",
              "  background-color: var(--sklearn-color-unfitted-level-0);\n",
              "}\n",
              "\n",
              "#sk-container-id-1 div.sk-estimator.fitted {\n",
              "  /* fitted */\n",
              "  background-color: var(--sklearn-color-fitted-level-0);\n",
              "}\n",
              "\n",
              "/* on hover */\n",
              "#sk-container-id-1 div.sk-estimator:hover {\n",
              "  /* unfitted */\n",
              "  background-color: var(--sklearn-color-unfitted-level-2);\n",
              "}\n",
              "\n",
              "#sk-container-id-1 div.sk-estimator.fitted:hover {\n",
              "  /* fitted */\n",
              "  background-color: var(--sklearn-color-fitted-level-2);\n",
              "}\n",
              "\n",
              "/* Specification for estimator info (e.g. \"i\" and \"?\") */\n",
              "\n",
              "/* Common style for \"i\" and \"?\" */\n",
              "\n",
              ".sk-estimator-doc-link,\n",
              "a:link.sk-estimator-doc-link,\n",
              "a:visited.sk-estimator-doc-link {\n",
              "  float: right;\n",
              "  font-size: smaller;\n",
              "  line-height: 1em;\n",
              "  font-family: monospace;\n",
              "  background-color: var(--sklearn-color-background);\n",
              "  border-radius: 1em;\n",
              "  height: 1em;\n",
              "  width: 1em;\n",
              "  text-decoration: none !important;\n",
              "  margin-left: 1ex;\n",
              "  /* unfitted */\n",
              "  border: var(--sklearn-color-unfitted-level-1) 1pt solid;\n",
              "  color: var(--sklearn-color-unfitted-level-1);\n",
              "}\n",
              "\n",
              ".sk-estimator-doc-link.fitted,\n",
              "a:link.sk-estimator-doc-link.fitted,\n",
              "a:visited.sk-estimator-doc-link.fitted {\n",
              "  /* fitted */\n",
              "  border: var(--sklearn-color-fitted-level-1) 1pt solid;\n",
              "  color: var(--sklearn-color-fitted-level-1);\n",
              "}\n",
              "\n",
              "/* On hover */\n",
              "div.sk-estimator:hover .sk-estimator-doc-link:hover,\n",
              ".sk-estimator-doc-link:hover,\n",
              "div.sk-label-container:hover .sk-estimator-doc-link:hover,\n",
              ".sk-estimator-doc-link:hover {\n",
              "  /* unfitted */\n",
              "  background-color: var(--sklearn-color-unfitted-level-3);\n",
              "  color: var(--sklearn-color-background);\n",
              "  text-decoration: none;\n",
              "}\n",
              "\n",
              "div.sk-estimator.fitted:hover .sk-estimator-doc-link.fitted:hover,\n",
              ".sk-estimator-doc-link.fitted:hover,\n",
              "div.sk-label-container:hover .sk-estimator-doc-link.fitted:hover,\n",
              ".sk-estimator-doc-link.fitted:hover {\n",
              "  /* fitted */\n",
              "  background-color: var(--sklearn-color-fitted-level-3);\n",
              "  color: var(--sklearn-color-background);\n",
              "  text-decoration: none;\n",
              "}\n",
              "\n",
              "/* Span, style for the box shown on hovering the info icon */\n",
              ".sk-estimator-doc-link span {\n",
              "  display: none;\n",
              "  z-index: 9999;\n",
              "  position: relative;\n",
              "  font-weight: normal;\n",
              "  right: .2ex;\n",
              "  padding: .5ex;\n",
              "  margin: .5ex;\n",
              "  width: min-content;\n",
              "  min-width: 20ex;\n",
              "  max-width: 50ex;\n",
              "  color: var(--sklearn-color-text);\n",
              "  box-shadow: 2pt 2pt 4pt #999;\n",
              "  /* unfitted */\n",
              "  background: var(--sklearn-color-unfitted-level-0);\n",
              "  border: .5pt solid var(--sklearn-color-unfitted-level-3);\n",
              "}\n",
              "\n",
              ".sk-estimator-doc-link.fitted span {\n",
              "  /* fitted */\n",
              "  background: var(--sklearn-color-fitted-level-0);\n",
              "  border: var(--sklearn-color-fitted-level-3);\n",
              "}\n",
              "\n",
              ".sk-estimator-doc-link:hover span {\n",
              "  display: block;\n",
              "}\n",
              "\n",
              "/* \"?\"-specific style due to the `<a>` HTML tag */\n",
              "\n",
              "#sk-container-id-1 a.estimator_doc_link {\n",
              "  float: right;\n",
              "  font-size: 1rem;\n",
              "  line-height: 1em;\n",
              "  font-family: monospace;\n",
              "  background-color: var(--sklearn-color-background);\n",
              "  border-radius: 1rem;\n",
              "  height: 1rem;\n",
              "  width: 1rem;\n",
              "  text-decoration: none;\n",
              "  /* unfitted */\n",
              "  color: var(--sklearn-color-unfitted-level-1);\n",
              "  border: var(--sklearn-color-unfitted-level-1) 1pt solid;\n",
              "}\n",
              "\n",
              "#sk-container-id-1 a.estimator_doc_link.fitted {\n",
              "  /* fitted */\n",
              "  border: var(--sklearn-color-fitted-level-1) 1pt solid;\n",
              "  color: var(--sklearn-color-fitted-level-1);\n",
              "}\n",
              "\n",
              "/* On hover */\n",
              "#sk-container-id-1 a.estimator_doc_link:hover {\n",
              "  /* unfitted */\n",
              "  background-color: var(--sklearn-color-unfitted-level-3);\n",
              "  color: var(--sklearn-color-background);\n",
              "  text-decoration: none;\n",
              "}\n",
              "\n",
              "#sk-container-id-1 a.estimator_doc_link.fitted:hover {\n",
              "  /* fitted */\n",
              "  background-color: var(--sklearn-color-fitted-level-3);\n",
              "}\n",
              "</style><div id=\"sk-container-id-1\" class=\"sk-top-container\"><div class=\"sk-text-repr-fallback\"><pre>Pipeline(steps=[(&#x27;bow&#x27;,\n",
              "                 CountVectorizer(analyzer=&lt;function text_process at 0x0000021D98A36980&gt;)),\n",
              "                (&#x27;tfidf&#x27;, TfidfTransformer()),\n",
              "                (&#x27;classifier&#x27;, MultinomialNB())])</pre><b>In a Jupyter environment, please rerun this cell to show the HTML representation or trust the notebook. <br />On GitHub, the HTML representation is unable to render, please try loading this page with nbviewer.org.</b></div><div class=\"sk-container\" hidden><div class=\"sk-item sk-dashed-wrapped\"><div class=\"sk-label-container\"><div class=\"sk-label fitted sk-toggleable\"><input class=\"sk-toggleable__control sk-hidden--visually\" id=\"sk-estimator-id-1\" type=\"checkbox\" ><label for=\"sk-estimator-id-1\" class=\"sk-toggleable__label fitted sk-toggleable__label-arrow fitted\">&nbsp;&nbsp;Pipeline<a class=\"sk-estimator-doc-link fitted\" rel=\"noreferrer\" target=\"_blank\" href=\"https://scikit-learn.org/1.5/modules/generated/sklearn.pipeline.Pipeline.html\">?<span>Documentation for Pipeline</span></a><span class=\"sk-estimator-doc-link fitted\">i<span>Fitted</span></span></label><div class=\"sk-toggleable__content fitted\"><pre>Pipeline(steps=[(&#x27;bow&#x27;,\n",
              "                 CountVectorizer(analyzer=&lt;function text_process at 0x0000021D98A36980&gt;)),\n",
              "                (&#x27;tfidf&#x27;, TfidfTransformer()),\n",
              "                (&#x27;classifier&#x27;, MultinomialNB())])</pre></div> </div></div><div class=\"sk-serial\"><div class=\"sk-item\"><div class=\"sk-estimator fitted sk-toggleable\"><input class=\"sk-toggleable__control sk-hidden--visually\" id=\"sk-estimator-id-2\" type=\"checkbox\" ><label for=\"sk-estimator-id-2\" class=\"sk-toggleable__label fitted sk-toggleable__label-arrow fitted\">&nbsp;CountVectorizer<a class=\"sk-estimator-doc-link fitted\" rel=\"noreferrer\" target=\"_blank\" href=\"https://scikit-learn.org/1.5/modules/generated/sklearn.feature_extraction.text.CountVectorizer.html\">?<span>Documentation for CountVectorizer</span></a></label><div class=\"sk-toggleable__content fitted\"><pre>CountVectorizer(analyzer=&lt;function text_process at 0x0000021D98A36980&gt;)</pre></div> </div></div><div class=\"sk-item\"><div class=\"sk-estimator fitted sk-toggleable\"><input class=\"sk-toggleable__control sk-hidden--visually\" id=\"sk-estimator-id-3\" type=\"checkbox\" ><label for=\"sk-estimator-id-3\" class=\"sk-toggleable__label fitted sk-toggleable__label-arrow fitted\">&nbsp;TfidfTransformer<a class=\"sk-estimator-doc-link fitted\" rel=\"noreferrer\" target=\"_blank\" href=\"https://scikit-learn.org/1.5/modules/generated/sklearn.feature_extraction.text.TfidfTransformer.html\">?<span>Documentation for TfidfTransformer</span></a></label><div class=\"sk-toggleable__content fitted\"><pre>TfidfTransformer()</pre></div> </div></div><div class=\"sk-item\"><div class=\"sk-estimator fitted sk-toggleable\"><input class=\"sk-toggleable__control sk-hidden--visually\" id=\"sk-estimator-id-4\" type=\"checkbox\" ><label for=\"sk-estimator-id-4\" class=\"sk-toggleable__label fitted sk-toggleable__label-arrow fitted\">&nbsp;MultinomialNB<a class=\"sk-estimator-doc-link fitted\" rel=\"noreferrer\" target=\"_blank\" href=\"https://scikit-learn.org/1.5/modules/generated/sklearn.naive_bayes.MultinomialNB.html\">?<span>Documentation for MultinomialNB</span></a></label><div class=\"sk-toggleable__content fitted\"><pre>MultinomialNB()</pre></div> </div></div></div></div></div></div>"
            ],
            "text/plain": [
              "Pipeline(steps=[('bow',\n",
              "                 CountVectorizer(analyzer=<function text_process at 0x0000021D98A36980>)),\n",
              "                ('tfidf', TfidfTransformer()),\n",
              "                ('classifier', MultinomialNB())])"
            ]
          },
          "execution_count": 53,
          "metadata": {},
          "output_type": "execute_result"
        }
      ],
      "source": [
        "pipeline.fit(msg_train, label_train)"
      ]
    },
    {
      "cell_type": "code",
      "execution_count": null,
      "id": "70fba7dd-6b92-4802-99d6-504ab8bf68cb",
      "metadata": {
        "id": "70fba7dd-6b92-4802-99d6-504ab8bf68cb"
      },
      "outputs": [],
      "source": [
        "predictions = pipeline.predict(msg_test)"
      ]
    },
    {
      "cell_type": "code",
      "execution_count": null,
      "id": "299b8f08-1b7c-415a-8b2c-57474cea20dc",
      "metadata": {
        "id": "299b8f08-1b7c-415a-8b2c-57474cea20dc"
      },
      "outputs": [],
      "source": [
        "from sklearn.metrics import classification_report"
      ]
    },
    {
      "cell_type": "code",
      "execution_count": null,
      "id": "5ab3fe8c-a6c9-4051-9fdb-24d5eb22d479",
      "metadata": {
        "id": "5ab3fe8c-a6c9-4051-9fdb-24d5eb22d479",
        "outputId": "57ba5e7d-b1d6-497b-d503-d70b8038fa11"
      },
      "outputs": [
        {
          "name": "stdout",
          "output_type": "stream",
          "text": [
            "              precision    recall  f1-score   support\n",
            "\n",
            "         ham       0.95      1.00      0.97       951\n",
            "        spam       1.00      0.70      0.82       164\n",
            "\n",
            "    accuracy                           0.96      1115\n",
            "   macro avg       0.98      0.85      0.90      1115\n",
            "weighted avg       0.96      0.96      0.95      1115\n",
            "\n"
          ]
        }
      ],
      "source": [
        "print(classification_report(label_test, predictions))"
      ]
    },
    {
      "cell_type": "code",
      "execution_count": null,
      "id": "21b011b1-b754-4931-ab9a-9971df6e2945",
      "metadata": {
        "id": "21b011b1-b754-4931-ab9a-9971df6e2945"
      },
      "outputs": [],
      "source": []
    }
  ],
  "metadata": {
    "kernelspec": {
      "display_name": "Python 3 (ipykernel)",
      "language": "python",
      "name": "python3"
    },
    "language_info": {
      "codemirror_mode": {
        "name": "ipython",
        "version": 3
      },
      "file_extension": ".py",
      "mimetype": "text/x-python",
      "name": "python",
      "nbconvert_exporter": "python",
      "pygments_lexer": "ipython3",
      "version": "3.12.4"
    },
    "colab": {
      "provenance": [],
      "include_colab_link": true
    }
  },
  "nbformat": 4,
  "nbformat_minor": 5
}